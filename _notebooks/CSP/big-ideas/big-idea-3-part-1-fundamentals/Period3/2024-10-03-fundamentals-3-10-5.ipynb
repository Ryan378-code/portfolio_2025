{
 "cells": [
  {
   "cell_type": "code",
   "execution_count": null,
   "metadata": {
    "vscode": {
     "languageId": "plaintext"
    }
   },
   "outputs": [],
   "source": [
    "---\n",
    "toc: false\n",
    "comments: true\n",
    "layout: post\n",
    "title: 3.10 Homework and Submission\n",
    "description: This is the grading and submission page for 3.10, period 3. Review the rubric, and when you are ready, submit!\n",
    "permalink: /csp/big-idea/p3/3-10-5\n",
    "categories: [CSP Big Ideas]\n",
    "author: Ryan Nguyen\n",
    "menu: nav/csp_units/csp_unit3_p3_fundamentals.html\n",
    "---"
   ]
  },
  {
   "cell_type": "markdown",
   "metadata": {},
   "source": [
    "<div style=\"border: 2px solid #D8BFD8; padding: 15px; border-radius: 10px;\">\n",
    "  <span style=\"color: #87CEFA;\">Homework</span>\n",
    "\n",
    "  <p>\n",
    "    Your homework is to complete the Python and Javascript hacks. By now, you should've completed the Popcorn Hacks in-class. If you have not, it is now part of your homework! Please complete the hacks we introduced in 10.3 and 10.4.\n",
    "  </p>\n",
    "\n",
    "  <ul>\n",
    "    <li>\n",
    "      Please review the grading rubric found <a href=\"https://github.com/Ryan378-code/portfolio_2025/issues/4\" style=\"color: #87CEFA;\">here</a> before submitting.\n",
    "    </li>\n",
    "  </ul>\n",
    "</div>\n"
   ]
  },
  {
   "cell_type": "markdown",
   "metadata": {},
   "source": [
    "<div style=\"border: 2px solid #D8BFD8; padding: 15px; border-radius: 10px;\">\n",
    "  <span style=\"color: #87CEFA;\">Homework Submission:</span>\n",
    "  <p>\n",
    "    Please submit your homework <a href=\"https://github.com/Ryan378-code/portfolio_2025/issues/2\" style=\"color: #87CEFA;\">here</a>.\n",
    "  </p>\n",
    "</div>\n"
   ]
  },
  {
   "cell_type": "markdown",
   "metadata": {},
   "source": [
    "<table>\n",
    "  <tr>\n",
    "    <th>Criteria</th>\n",
    "    <th>4+ (95%)</th>\n",
    "    <th>4 (90%)</th>\n",
    "    <th>3 (83.33%)</th>\n",
    "    <th>2 (66.67%)</th>\n",
    "    <th>1 (50%)</th>\n",
    "  </tr>\n",
    "  <tr>\n",
    "    <td><strong>Functionality of Code</strong></td>\n",
    "    <td>Code goes beyond expectations with added features or improvements.</td>\n",
    "    <td>Code operates perfectly and fulfills all project goals.</td>\n",
    "    <td>Code works with a few minor issues, meeting most project goals.</td>\n",
    "    <td>Code has major bugs and only meets some of the goals.</td>\n",
    "    <td>Code fails to execute or doesn’t meet the project objectives.</td>\n",
    "  </tr>\n",
    "  <tr>\n",
    "    <td><strong>Efficiency of Code</strong></td>\n",
    "    <td>Code is highly optimized, with no unnecessary parts.</td>\n",
    "    <td>Code runs efficiently, with minimal unnecessary components.</td>\n",
    "    <td>Code performs fairly well, but has some inefficiencies.</td>\n",
    "    <td>Code has multiple inefficiencies and repeated sections.</td>\n",
    "    <td>Code is inefficient, with poor structure and excessive repetition.</td>\n",
    "  </tr>\n",
    "  <tr>\n",
    "    <td><strong>Creativity and Problem-Solving</strong></td>\n",
    "    <td>Highly creative, presenting original solutions and approaches.</td>\n",
    "    <td>Shows good creativity with some unique ideas.</td>\n",
    "    <td>Moderately creative, using a mix of standard and fresh ideas.</td>\n",
    "    <td>Limited creativity, mostly using conventional solutions.</td>\n",
    "    <td>Shows no creativity, relying on basic or pre-existing approaches.</td>\n",
    "  </tr>\n",
    "  <tr>\n",
    "    <td><strong>Code Comments and Documentation</strong></td>\n",
    "    <td>Code is thoroughly documented, with clear and detailed explanations throughout.</td>\n",
    "    <td>Code is well-documented, with comments covering most parts.</td>\n",
    "    <td>Documentation is present but lacks thoroughness, with only partial comments.</td>\n",
    "    <td>Minimal documentation, with very few comments.</td>\n",
    "    <td>No documentation or comments, making the code hard to follow.</td>\n",
    "  </tr>\n",
    "</table>"
   ]
  }
 ],
 "metadata": {
  "language_info": {
   "name": "python"
  }
 },
 "nbformat": 4,
 "nbformat_minor": 2
}
